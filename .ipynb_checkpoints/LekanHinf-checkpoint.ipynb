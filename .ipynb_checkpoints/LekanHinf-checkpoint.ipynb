{
 "cells": [
  {
   "cell_type": "code",
   "execution_count": 1,
   "metadata": {
    "id": "9nQpmjr48rxH"
   },
   "outputs": [],
   "source": [
    "import scipy\n",
    "import numpy as np\n",
    "\n",
    "import scipy.linalg as sla \n",
    "import numpy.linalg as la \n",
    "import matplotlib.pyplot as plt\n",
    "\n",
    "from scipy.linalg import solve_continuous_are as CARE\n",
    "\n",
    "# Make sure we can import required slycot routine\n",
    "try:\n",
    "    from slycot import sg02ad\n",
    "except ImportError:\n",
    "    raise print(\"Can't find slycot module 'sg02ad'\")\n",
    "    \n",
    "from utils import *"
   ]
  },
  {
   "cell_type": "code",
   "execution_count": 3,
   "metadata": {},
   "outputs": [
    {
     "data": {
      "text/plain": [
       "['CARE',\n",
       " 'acker',\n",
       " 'ctrb',\n",
       " 'is_pos_def',\n",
       " 'kron',\n",
       " 'la',\n",
       " 'lq_utils',\n",
       " 'mat',\n",
       " 'mdot',\n",
       " 'np',\n",
       " 'obsv',\n",
       " 'plt',\n",
       " 'precc',\n",
       " 'psdpart',\n",
       " 'scipy',\n",
       " 'sg02ad',\n",
       " 'sla',\n",
       " 'smat',\n",
       " 'smat2',\n",
       " 'specrad',\n",
       " 'succ',\n",
       " 'svec',\n",
       " 'svec2',\n",
       " 'sympart',\n",
       " 'vec',\n",
       " 'vec2vecT']"
      ]
     },
     "execution_count": 3,
     "metadata": {},
     "output_type": "execute_result"
    }
   ],
   "source": [
    "%who_ls"
   ]
  },
  {
   "cell_type": "code",
   "execution_count": 2,
   "metadata": {},
   "outputs": [],
   "source": [
    "def solve_care(A, B1, B2, Q, R, γ, S=None, E=None, stabilizing=True, method=None):\n",
    "    \"\"\"\n",
    "        A Continuous-time (closed-loop) Riccati equation solver for two players \n",
    "        in a zero-sum linear quadratic differential game setting.\n",
    "\n",
    "        Solve the equation \n",
    "\n",
    "            :math:`AP +A^T P - P (B_1 R^{-1} B_1^T - \\gamma^{-2} B_2 B_2^T) P + Q = 0`\n",
    "\n",
    "        where A and Q are square matrices of same dimension. In addition, Q is a symmetric \n",
    "        positive definite matrix. It returns the solution P, the gain matrices, K and L, as \n",
    "        well as the closed-loop eigenvalues of (A - B_1 K + B_2 L), where K and L are the \n",
    "        feedback gains of the two players given by \n",
    "\n",
    "            :math: `K=R^{-1}B_1^T P,      L = -\\gamma^{-2} B_2^T P.`\n",
    "        \n",
    "        For details, see the IFAC paper by Lekan Molu and Hosein Hasanbeig.\n",
    "\n",
    "        Parameters\n",
    "        ----------\n",
    "        A, B1, B2, Q : 2D arrays\n",
    "            Input matrices for the Riccati equation.\n",
    "        γ : The H infinity risk measure.\n",
    "        R, S, E : 2D arrays, optional\n",
    "            Input matrices for generalized Riccati equation.\n",
    "        method : str, optional\n",
    "            Set the method used for computing the result.  Current methods are\n",
    "            'slycot' and 'scipy'.  If set to None (default), try 'slycot' first\n",
    "            and then 'scipy'.\n",
    "\n",
    "        Returns\n",
    "        -------\n",
    "        X : 2D array (or matrix)\n",
    "            Solution to the Ricatti equation\n",
    "        V : 1D array\n",
    "            Closed loop eigenvalues\n",
    "        K : 2D array (or matrix) for minimizing player\n",
    "        L : 2D array (or matrix) for maximizing player\n",
    "            Gain matrix\n",
    "\n",
    "        Notes\n",
    "        -----\n",
    "        Author: Lekan Molu\n",
    "        Date: October 19, 2022\n",
    "    \"\"\"\n",
    "\n",
    "    assert method is not None, \"method must be 'slycot' or 'scipy'\"\n",
    "\n",
    "\n",
    "    # Reshape input arrays\n",
    "    A = np.array(A, ndmin=2)\n",
    "    B1 = np.array(B1, ndmin=2)\n",
    "    B2 = np.array(B2, ndmin=2)\n",
    "    Q = np.array(Q, ndmin=2)\n",
    "    R = np.eye(B1.shape[1]) if R is None else np.array(R, ndmin=2)\n",
    "    if S is not None:\n",
    "        S = np.array(S, ndmin=2)\n",
    "    if E is not None:\n",
    "        E = np.array(E, ndmin=2)\n",
    "\n",
    "    # Determine main dimensions\n",
    "    n = A.shape[0]\n",
    "    m = B1.shape[1]\n",
    "\n",
    "\n",
    "    _check_shape(A_s, A, n, n, square=True)\n",
    "    _check_shape(B_s, B, n, m)\n",
    "    _check_shape(Q_s, Q, n, n, square=True, symmetric=True)\n",
    "    _check_shape(R_s, R, m, m, square=True, symmetric=True)\n"
   ]
  },
  {
   "cell_type": "code",
   "execution_count": null,
   "metadata": {
    "id": "Wd6YP--sHOpU"
   },
   "outputs": [],
   "source": [
    "def solve_ARE(A, B, D, Q, R, gamma):\n",
    "    '''\n",
    "    solve the indefinite Algebric Riccati Equation\n",
    "    input:\n",
    "        system model and weighting matrices\n",
    "    output: \n",
    "        P: the optimal solution to ARE\n",
    "        K: the optimal gain for control\n",
    "        L: the optimal gain for disturbance\n",
    "    '''\n",
    "    \n",
    "    dt = 0.0001\n",
    "    xn = np.size(A,0)\n",
    "    un = np.size(B,1)\n",
    "    wn = np.size(D,1)\n",
    "    P = np.zeros((xn,xn))\n",
    "    P_pre = np.ones((xn,xn))\n",
    "    \n",
    "    step = 0\n",
    "    \n",
    "    while np.linalg.norm(P-P_pre)>1e-8 and step<1e8:\n",
    "        step += 1\n",
    "        P_pre = P;\n",
    "        P = P_pre + (np.transpose(A)@P_pre + P_pre@A + Q \\\n",
    "            - P_pre@(B@np.linalg.pinv(R)@np.transpose(B) \\\n",
    "            - gamma**(-2)*D@np.transpose(D))@P_pre)*dt\n",
    "\n",
    "    K = np.linalg.pinv(R)@np.transpose(B)@P\n",
    "    L = gamma**(-2)*D.reshape((wn,xn))@P\n",
    "\n",
    "    return P, K, L\n",
    "\n"
   ]
  },
  {
   "cell_type": "code",
   "execution_count": null,
   "metadata": {
    "id": "EBuhqXiD8rxP"
   },
   "outputs": [],
   "source": [
    "def system(dt, x, u):\n",
    "    '''\n",
    "    Discretized Linear Dynamics of the system dx = (Ax+Bu)dt + Ddw by E-M\n",
    "    Input:\n",
    "        dt: time step to \n",
    "        x: state of the system, 6 dim\n",
    "        u: control input of the system, 2 dim\n",
    "    Output:\n",
    "        x_next: state at the next step\n",
    "    '''\n",
    "    A = np.concatenate((np.zeros((3,3)), np.eye(3)), axis = 1)\n",
    "    A_ = np.array([[12.54, -8.26, -0.39, -0.043, 2.75, -0.36],\n",
    "                   [-4.38, 36.95, -3.00, 0.086, -9.57, 2.29],\n",
    "                   [-6.82, -22.94, 11.93, -0.034, 6.82, -2.86]])\n",
    "    A = np.concatenate((A, A_), axis = 0)\n",
    "    \n",
    "    B = np.array([[-50.0, 6.12],\n",
    "                  [174.4, -38.93],\n",
    "                  [-124.2, 48.62]])\n",
    "    B = np.concatenate((np.zeros((3,2)), B), axis = 0)\n",
    "    \n",
    "    D = np.concatenate((np.zeros((3,3)), np.eye(3)), axis = 0)\n",
    "    \n",
    "    xi = np.random.normal(0,1,3)\n",
    "    x_next = x + (A@x+B@u)*dt + D@xi*np.sqrt(dt)\n",
    "    \n",
    "    return x_next\n",
    "\n",
    "\n",
    "def int_system(dt, tf, x0, K, sigma):\n",
    "    '''\n",
    "    Intergrate the sde from 0 to tf\n",
    "    Input:\n",
    "        dt: time step to discrete the system\n",
    "        tf: terminal time of the integral\n",
    "        x0: initial state\n",
    "        K: Controller\n",
    "        sigma: magnitude of exploratory noise\n",
    "    Output:\n",
    "        X: state trajectory from 0 to tf\n",
    "        U: input trajectory from 0 to tf\n",
    "    '''\n",
    "    N = int(tf/dt)\n",
    "    X = np.zeros((N+1,6))\n",
    "    U = np.zeros((N,2))\n",
    "    X[0,:] = x0\n",
    "      \n",
    "    y = np.zeros(2)\n",
    "    \n",
    "    for i in range(N):\n",
    "        t = i*dt\n",
    "        y = y - y*dt + np.random.normal(0,1,2)*np.sqrt(dt)\n",
    "        u = -K@X[i,:] + sigma*y\n",
    "        x_next = system(dt, X[i,:], u)\n",
    "        X[i+1,:] = x_next\n",
    "        U[i,:] = u\n",
    "        \n",
    "    return X, U\n",
    "        "
   ]
  },
  {
   "cell_type": "code",
   "execution_count": null,
   "metadata": {
    "colab": {
     "base_uri": "https://localhost:8080/",
     "height": 270
    },
    "id": "V2uPJxpJ8rxQ",
    "outputId": "ebdb3a0c-2fee-43f2-a318-99fce2fd3376"
   },
   "outputs": [],
   "source": [
    "# run system and collect the data\n",
    "dt = 0.001\n",
    "tf = 1500.0\n",
    "sigma = 10\n",
    "K_init = np.array([[-257.5,\t-96.0,\t-39.4,\t-85.6,\t-37.5,\t-19.8],\n",
    "[-628.4,\t-236.7,\t-94.1,\t-208.6,\t-93.3,\t-46.7]]) \n",
    "# x0 = np.random.normal(0,1,6)\n",
    "x0 = np.zeros(6)\n",
    "T = np.arange(0., tf+dt, dt)\n",
    "X, U = int_system(dt, tf, x0, K_init, sigma)\n",
    "\n",
    "plt.plot(T, X)\n",
    "plt.show()"
   ]
  },
  {
   "cell_type": "code",
   "execution_count": null,
   "metadata": {
    "id": "HIkrjQYU8rxS"
   },
   "outputs": [],
   "source": [
    "# Required data matrices for learning algorithm\n",
    "xn = np.size(X,1) #state dim\n",
    "un = np.size(U,1) #control dim\n",
    "wn = 3 #disturbance dim\n",
    "n_vecv = int((xn+1)*xn/2)\n",
    "n_phi = n_vecv + xn*un + 1\n",
    "n_data = len(U) # the total num of data\n",
    "\n",
    "Phi = np.zeros((n_phi, n_phi))\n",
    "Xi = np.zeros((n_phi, n_vecv))\n",
    "\n",
    "for i in range(n_data):\n",
    "    phi = np.concatenate((vecv(X[i]), 2*np.kron(X[i],U[i])), axis = 0)\n",
    "    phi = np.concatenate((phi, np.ones(1)), axis = 0)\n",
    "    Phi += np.outer(phi,phi)*dt\n",
    "    Xi += np.outer(phi,(vecv(X[i+1])-vecv(X[i])))\n",
    "\n",
    "Phi = Phi/tf\n",
    "Xi = Xi/tf    \n",
    "Phi_inv = np.linalg.pinv(Phi)\n",
    "        "
   ]
  },
  {
   "cell_type": "code",
   "execution_count": null,
   "metadata": {
    "id": "gvhvN0oCdqae"
   },
   "outputs": [],
   "source": [
    "A = np.concatenate((np.zeros((3,3)), np.eye(3)), axis = 1)\n",
    "A_ = np.array([[12.54, -8.26, -0.39, -0.043, 2.75, -0.36],\n",
    "    [-4.38, 36.95, -3.00, 0.086, -9.57, 2.29],\n",
    "    [-6.82, -22.94, 11.93, -0.034, 6.82, -2.86]])\n",
    "A = np.concatenate((A, A_), axis = 0)\n",
    "\n",
    "B = np.array([[-50.0, 6.12],\n",
    "    [174.4, -38.93],\n",
    "    [-124.2, 48.62]])\n",
    "B = np.concatenate((np.zeros((3,2)), B), axis = 0)\n"
   ]
  },
  {
   "cell_type": "code",
   "execution_count": null,
   "metadata": {
    "id": "hCw8PUsS8rxS"
   },
   "outputs": [],
   "source": [
    "# Learning-based algorithm\n",
    "Q = 1*np.eye(xn)\n",
    "R = np.eye(un)\n",
    "I = 20 # number of iterations for outer Loop\n",
    "J = 30 # number of iterations for inner Loop\n",
    "gamma = 5\n",
    "\n",
    "D = np.concatenate((np.zeros((3,3)), 1*np.eye(3)), axis = 0)\n",
    "\n",
    "K = np.array([[-257.5,\t-96.0,\t-39.4,\t-85.6,\t-37.5,\t-19.8],\n",
    "[-628.4,\t-236.7,\t-94.1,\t-208.6,\t-93.3,\t-46.7]])\n",
    "\n",
    "T_v_vs, T_vs_v  = trans_vec_vecs(xn)\n",
    "T_vt = Trans_vec(un,xn)\n",
    "\n",
    "P_storage = np.zeros((I,xn,xn)) #store the P matrices at each iteration\n",
    "K_storage = np.zeros((I,un,xn)) #store the K matrices\n",
    "\n",
    "for i in range(I):\n",
    "    L = np.zeros((wn, xn))\n",
    "    for j in range(J):\n",
    "        LD = np.kron(np.eye(xn), np.transpose(L)@np.transpose(D)) + np.kron(np.transpose(L)@np.transpose(D), np.eye(xn))\n",
    "        LD = T_v_vs@LD@T_vs_v\n",
    "        KI = T_v_vs@(np.kron(np.eye(xn), np.transpose(K)) + np.kron(np.transpose(K), np.eye(xn))@T_vt)\n",
    "        Q_KL = Q + np.transpose(K)@R@K - gamma**2*np.transpose(L)@L\n",
    "\n",
    "        Lambda = Phi_inv[0:n_vecv,:]@Xi - KI@Phi_inv[n_vecv:n_vecv+xn*un,:]@Xi + LD\n",
    "        P_vecs = -np.linalg.pinv(Lambda)@vecs(Q_KL)\n",
    "        P = vecs_inv(P_vecs)\n",
    "        L = gamma**(-2)*np.transpose(D)@P\n",
    "        \n",
    "    BP = Phi_inv[n_vecv:n_vecv+xn*un,:]@Xi@P_vecs\n",
    "    BP = BP.reshape((xn,un))\n",
    "    K = np.linalg.pinv(R)@np.transpose(BP)\n",
    "\n",
    "    P_storage[i] = P\n",
    "    K_storage[i] = K\n",
    "\n"
   ]
  },
  {
   "cell_type": "code",
   "execution_count": null,
   "metadata": {
    "id": "vRzDjzdQ8rxU"
   },
   "outputs": [],
   "source": [
    "\n",
    "#calculate the optimal value\n",
    "P_opt, K_opt, L_opt = solve_ARE(A, B, D, Q, R, gamma)\n",
    "\n"
   ]
  },
  {
   "cell_type": "code",
   "execution_count": null,
   "metadata": {
    "colab": {
     "base_uri": "https://localhost:8080/",
     "height": 567
    },
    "id": "DhaBFChOuG0T",
    "outputId": "56f8dbc5-fd3c-4b8d-f8e5-26a1b6a17ae2"
   },
   "outputs": [],
   "source": [
    "plt.rc('xtick', labelsize=15) \n",
    "plt.rc('ytick', labelsize=15) \n",
    "\n",
    "P_norm = np.zeros(I)\n",
    "K_norm = np.zeros(I)\n",
    "for i in range(I):\n",
    "    P_norm[i] = np.linalg.norm(P_storage[i]-P_opt)/np.linalg.norm(P_opt)\n",
    "    K_norm[i] = np.linalg.norm(K_storage[i]-K_opt)/np.linalg.norm(K_opt)\n",
    "\n",
    "It = np.linspace(start=0,stop=I,num=I,endpoint=False)\n",
    "plt.plot(It, P_norm, '*-', linewidth=2.0, markersize=10)\n",
    "plt.xlabel('Iterations', fontsize=18)\n",
    "plt.ylabel('${||\\hat{P}_{K_i}-P_{*}||}/{||P_{*}||}$', fontsize=18)\n",
    "plt.show()\n",
    "\n",
    "plt.plot(It, K_norm, '*-', linewidth=2.0, markersize=12)\n",
    "plt.xlabel('Iterations', fontsize=18)\n",
    "plt.ylabel('${||\\hat{K}_{i}-K_{*}||}/{||K_{*}||}$', fontsize=18)\n",
    "plt.show()"
   ]
  },
  {
   "cell_type": "code",
   "execution_count": null,
   "metadata": {
    "colab": {
     "base_uri": "https://localhost:8080/",
     "height": 270
    },
    "id": "wM-efRKW8rxV",
    "outputId": "b0682eb1-708d-46a4-f378-7d6f5f40592a"
   },
   "outputs": [],
   "source": [
    "# test the learned controller\n",
    "sigma = 0.0\n",
    "x0 = np.random.normal(0,1,6)\n",
    "T = np.arange(0., 10.0+dt, dt)\n",
    "X_test, U_test = int_system(dt, 10.0, x0, K, sigma)\n",
    "plt.plot(T, X_test)\n",
    "plt.show()"
   ]
  },
  {
   "cell_type": "code",
   "execution_count": null,
   "metadata": {
    "colab": {
     "base_uri": "https://localhost:8080/"
    },
    "id": "KQaKYBbc8rxV",
    "outputId": "8efa7ecc-d6f5-4bdb-dc97-eef956f9dad1"
   },
   "outputs": [],
   "source": [
    "print(np.linalg.eig(A-B@K))\n",
    "\n",
    "print(K_opt)"
   ]
  }
 ],
 "metadata": {
  "colab": {
   "collapsed_sections": [],
   "name": "H_infinity_BrownianMotion.ipynb",
   "provenance": []
  },
  "gpuClass": "standard",
  "kernelspec": {
   "display_name": "Python 3 (ipykernel)",
   "language": "python",
   "name": "python3"
  },
  "language_info": {
   "codemirror_mode": {
    "name": "ipython",
    "version": 3
   },
   "file_extension": ".py",
   "mimetype": "text/x-python",
   "name": "python",
   "nbconvert_exporter": "python",
   "pygments_lexer": "ipython3",
   "version": "3.8.12"
  },
  "vscode": {
   "interpreter": {
    "hash": "e8e58a6e0c964839778b0e18417b8a4cb326d0bc3073c19d6809a75219147292"
   }
  }
 },
 "nbformat": 4,
 "nbformat_minor": 4
}
